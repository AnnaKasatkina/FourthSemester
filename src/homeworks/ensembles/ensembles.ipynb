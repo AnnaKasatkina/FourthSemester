{
  "cells": [
    {
      "cell_type": "markdown",
      "metadata": {
        "id": "1PjQglGj4q54"
      },
      "source": [
        "# Случайные леса\n",
        "\n",
        "В этом задании вам предстоит реализовать ансамбль деревьев решений, известный как случайный лес, применить его к публичным данным пользователей социальной сети Вконтакте, и сравнить его эффективность с бустингом, предоставляемым библиотекой `CatBoost`.\n",
        "\n",
        "В результате мы сможем определить, какие подписки пользователей больше всего влияют на определение возраста и пола человека."
      ]
    },
    {
      "cell_type": "code",
      "execution_count": 1,
      "metadata": {
        "id": "LH5PiGz04q5-"
      },
      "outputs": [],
      "source": [
        "import inspect\n",
        "import random\n",
        "from collections import Counter\n",
        "from dataclasses import dataclass\n",
        "from itertools import product\n",
        "from typing import Callable, List, Tuple, Union\n",
        "\n",
        "import numpy as np\n",
        "import numpy.typing as npt\n",
        "import pandas\n",
        "from catboost import CatBoostClassifier\n",
        "from sklearn.model_selection import train_test_split\n",
        "from tqdm.notebook import tqdm"
      ]
    },
    {
      "cell_type": "code",
      "execution_count": 2,
      "metadata": {
        "id": "5nQ77ltnBJay",
        "pycharm": {
          "name": "#%%\n"
        }
      },
      "outputs": [],
      "source": [
        "def set_seed(seed=42):\n",
        "    np.random.seed(seed)\n",
        "    random.seed(seed)\n",
        "\n",
        "\n",
        "# Этой функцией будут помечены все места, которые необходимо дозаполнить\n",
        "# Это могут быть как целые функции, так и отдельные части внутри них\n",
        "# Всегда можно воспользоваться интроспекцией и найти места использования этой функции :)\n",
        "def todo():\n",
        "    stack = inspect.stack()\n",
        "    caller_frame = stack[1]\n",
        "    function_name = caller_frame.function\n",
        "    line_number = caller_frame.lineno\n",
        "    raise NotImplementedError(f\"TODO at {function_name}, line {line_number}\")\n",
        "\n",
        "\n",
        "SEED = 0xC0FFEE\n",
        "set_seed(SEED)"
      ]
    },
    {
      "cell_type": "code",
      "execution_count": 3,
      "metadata": {
        "id": "TCAyjmqJBJaz"
      },
      "outputs": [],
      "source": [
        "def mode(data):\n",
        "    counts = Counter(data)\n",
        "    return counts.most_common(n=1)[0][0]"
      ]
    },
    {
      "cell_type": "markdown",
      "metadata": {
        "id": "tfxycK0Q4q5_"
      },
      "source": [
        "### Задание 1 (2 балла)\n",
        "Random Forest состоит из деревьев решений. Каждое такое дерево строится на одной из выборок, полученных при помощи bootstrap. Элементы, которые не вошли в новую обучающую выборку, образуют **out-of-bag** выборку. Кроме того, в каждом узле дерева мы случайным образом выбираем набор из `max_features` и ищем признак для предиката разбиения только в этом наборе.\n",
        "\n",
        "Сегодня мы будем работать только с бинарными признаками, поэтому нет необходимости выбирать значение признака для разбиения.\n",
        "\n",
        "#### Методы\n",
        "`predict(X)` - возвращает предсказанные метки для элементов выборки `X`\n",
        "\n",
        "#### Параметры конструктора\n",
        "`X, y` - обучающая выборка и соответствующие ей метки классов. Из нее нужно получить выборку для построения дерева при помощи bootstrap. Out-of-bag выборку нужно запомнить, она понадобится потом.\n",
        "\n",
        "`criterion=\"gini\"` - задает критерий, который будет использоваться при построении дерева. Возможные значения: `\"gini\"`, `\"entropy\"`.\n",
        "\n",
        "`max_depth=None` - ограничение глубины дерева. Если `None` - глубина не ограничена\n",
        "\n",
        "`min_samples_leaf=1` - минимальное количество элементов в каждом листе дерева.\n",
        "\n",
        "`max_features=\"auto\"` - количество признаков, которые могут использоваться в узле. Если `\"auto\"` - равно `sqrt(X.shape[1])`"
      ]
    },
    {
      "cell_type": "code",
      "execution_count": 4,
      "metadata": {
        "id": "bQUJHTjS4q5-"
      },
      "outputs": [],
      "source": [
        "# Для начала реализуем сами критерии\n",
        "\n",
        "\n",
        "def gini(x: npt.ArrayLike) -> float:\n",
        "    \"\"\"\n",
        "    Calculate the Gini impurity of a list or array of class labels.\n",
        "\n",
        "    Args:\n",
        "        x (ArrayLike): Array-like object containing class labels.\n",
        "\n",
        "    Returns:\n",
        "        float: Gini impurity value.\n",
        "    \"\"\"\n",
        "\n",
        "    if x.size == 0:\n",
        "        return 0.0\n",
        "    \n",
        "    counts = np.array(list(Counter(x).values()))\n",
        "    probabilities = counts / counts.sum()\n",
        "    return np.sum(probabilities * (1 - probabilities))\n",
        "\n",
        "\n",
        "\n",
        "def entropy(x: npt.ArrayLike) -> float:\n",
        "    \"\"\"\n",
        "    Calculate the entropy of a list or array of class labels.\n",
        "\n",
        "    Args:\n",
        "        x (ArrayLike): Array-like object containing class labels.\n",
        "\n",
        "    Returns:\n",
        "        float: Entropy value.\n",
        "    \"\"\"\n",
        "    if x.size == 0:\n",
        "        return 0.0\n",
        "    \n",
        "    counts = np.array(list(Counter(x).values()))\n",
        "    probabilities = counts / counts.sum()\n",
        "    return -np.sum(probabilities * np.log2(probabilities + 1e-10))\n",
        "\n",
        "def gain(left_y: npt.ArrayLike, right_y: npt.ArrayLike, criterion: Callable[[npt.ArrayLike], float]) -> float:\n",
        "    \"\"\"\n",
        "    Calculate the information gain of a split using a specified criterion.\n",
        "\n",
        "    Args:\n",
        "        left_y (ArrayLike): Class labels for the left split.\n",
        "        right_y (ArrayLike): Class labels for the right split.\n",
        "        criterion (Callable): Function to calculate impurity (e.g., gini or entropy).\n",
        "\n",
        "    Returns:\n",
        "        float: Information gain from the split.\n",
        "    \"\"\"\n",
        "    n_total = len(left_y) + len(right_y)\n",
        "    parent = criterion(np.concatenate([left_y, right_y]))\n",
        "    child = (len(left_y) / n_total) * criterion(left_y) + (len(right_y) / n_total) * criterion(right_y)\n",
        "    return parent - child"
      ]
    },
    {
      "cell_type": "code",
      "execution_count": 5,
      "metadata": {
        "id": "IN-CAaQWBJa1",
        "pycharm": {
          "name": "#%%\n"
        }
      },
      "outputs": [],
      "source": [
        "@dataclass\n",
        "class DecisionTreeLeaf:\n",
        "    classes: np.ndarray\n",
        "\n",
        "    def __post_init__(self):\n",
        "        self.max_class = mode(self.classes)\n",
        "\n",
        "\n",
        "@dataclass\n",
        "class DecisionTreeInternalNode:\n",
        "    split_dim: int\n",
        "    left: Union[\"DecisionTreeInternalNode\", DecisionTreeLeaf]\n",
        "    right: Union[\"DecisionTreeInternalNode\", DecisionTreeLeaf]\n",
        "\n",
        "\n",
        "DecisionTreeNode = Union[DecisionTreeInternalNode, DecisionTreeLeaf]"
      ]
    },
    {
      "cell_type": "code",
      "execution_count": 6,
      "metadata": {
        "id": "8smLW2V_4q5_"
      },
      "outputs": [],
      "source": [
        "class DecisionTree:\n",
        "    def __init__(self, X, y, criterion=\"gini\", max_depth=None, min_samples_leaf=1, max_features=\"auto\"):\n",
        "        self.criterion = criterion\n",
        "        self.max_depth = max_depth\n",
        "        self.min_samples_leaf = min_samples_leaf\n",
        "        self.max_features = int(np.sqrt(X.shape[1])) if max_features == \"auto\" else max_features\n",
        "\n",
        "        n_samples = X.shape[0]\n",
        "        bootstrap_indices = np.random.choice(n_samples, n_samples, replace=True)\n",
        "        \n",
        "        oob_indices = np.setdiff1d(np.arange(n_samples), np.unique(bootstrap_indices))\n",
        "        self._out_of_bag_X = X[oob_indices] if len(oob_indices) > 0 else None\n",
        "        self._out_of_bag_y = y[oob_indices] if len(oob_indices) > 0 else None\n",
        "        \n",
        "        self._root = self._build_node(X[bootstrap_indices], y[bootstrap_indices], depth=0)\n",
        "\n",
        "    @property\n",
        "    def out_of_bag(self) -> Tuple[np.ndarray, np.ndarray]:\n",
        "        return self._out_of_bag_X, self._out_of_bag_y\n",
        "\n",
        "    def _build_node(self, points: np.ndarray, classes: np.ndarray, depth: int) -> DecisionTreeNode:\n",
        "        if (self.max_depth and depth >= self.max_depth) or \\\n",
        "            (len(classes) < 2 * self.min_samples_leaf) or \\\n",
        "            (len(np.unique(classes)) == 1):\n",
        "            return DecisionTreeLeaf(classes)\n",
        "        \n",
        "        best_gain = -np.inf\n",
        "        best_split_dim = None\n",
        "        best_left_mask = None\n",
        "\n",
        "        features = np.random.choice(points.shape[1], self.max_features, replace=False)\n",
        "    \n",
        "        for dim in features:\n",
        "            left_mask = points[:, dim] == 0\n",
        "            right_mask = ~left_mask\n",
        "\n",
        "            if left_mask.sum() < self.min_samples_leaf or right_mask.sum() < self.min_samples_leaf:\n",
        "                continue\n",
        "            \n",
        "            current_gain = gain(classes[left_mask], classes[right_mask], self.criterion)\n",
        "            \n",
        "            if current_gain > best_gain:\n",
        "                best_gain = current_gain\n",
        "                best_split_dim = dim\n",
        "                best_left_mask = left_mask\n",
        "\n",
        "        if best_split_dim is None:\n",
        "            return DecisionTreeLeaf(classes)\n",
        "        \n",
        "        left_node = self._build_node(points[best_left_mask], classes[best_left_mask], depth+1)\n",
        "        right_node = self._build_node(points[~best_left_mask], classes[~best_left_mask], depth+1)\n",
        "        \n",
        "        return DecisionTreeInternalNode(best_split_dim, left_node, right_node)\n",
        "\n",
        "    def _predict(self, points: np.ndarray, node: DecisionTreeNode) -> np.ndarray:\n",
        "        if isinstance(node, DecisionTreeLeaf):\n",
        "            return np.full(points.shape[0], node.max_class)\n",
        "        \n",
        "        left_mask = points[:, node.split_dim] == 0\n",
        "        right_mask = ~left_mask\n",
        "        \n",
        "        predictions = np.empty(points.shape[0], dtype=int)\n",
        "        \n",
        "        if np.any(left_mask):\n",
        "            predictions[left_mask] = self._predict(points[left_mask], node.left)\n",
        "        if np.any(right_mask):\n",
        "            predictions[right_mask] = self._predict(points[right_mask], node.right)\n",
        "        \n",
        "        return predictions\n",
        "\n",
        "    def predict(self, points: np.ndarray) -> np.ndarray:\n",
        "        return self._predict(points, self._root)"
      ]
    },
    {
      "cell_type": "markdown",
      "metadata": {
        "id": "9oijgwLt4q6A"
      },
      "source": [
        "### Задание 2 (2 балла)\n",
        "Теперь реализуем сам Random Forest. Идея очень простая: строим `n` деревьев, а затем берем модальное предсказание.\n",
        "\n",
        "#### Параметры конструктора\n",
        "`n_estimators` - количество используемых для предсказания деревьев.\n",
        "\n",
        "Остальное - параметры деревьев.\n",
        "\n",
        "#### Методы\n",
        "`fit(X, y)` - строит `n_estimators` деревьев по выборке `X`.\n",
        "\n",
        "`predict(X)` - для каждого элемента выборки `X` возвращает самый частый класс, который предсказывают для него деревья."
      ]
    },
    {
      "cell_type": "code",
      "execution_count": 13,
      "metadata": {
        "id": "APIy88YW4q6A"
      },
      "outputs": [],
      "source": [
        "class RandomForestClassifier:\n",
        "\n",
        "    _n_features: int = None\n",
        "\n",
        "    def __init__(self, criterion=\"gini\", max_depth=None, min_samples_leaf=1, max_features=\"auto\", n_estimators=10):\n",
        "        self.criterion = gini if criterion == \"gini\" else entropy\n",
        "        self._max_depth = max_depth\n",
        "        self._min_samples_leaf = min_samples_leaf\n",
        "        self._max_features = max_features\n",
        "        self._n_estimators = n_estimators\n",
        "        self._estimators = []\n",
        "\n",
        "    @property\n",
        "    def estimators(self) -> List[DecisionTree]:\n",
        "        return self._estimators\n",
        "\n",
        "    @property\n",
        "    def n_features(self) -> int:\n",
        "        if self._n_features is None:\n",
        "            raise RuntimeError(\"Fit random forest before accessing to number of features properties\")\n",
        "        return self._n_features\n",
        "\n",
        "    def fit(self, X, y):\n",
        "        self._n_features = X.shape[1]\n",
        "        n_samples = X.shape[0]\n",
        "        for _ in range(self._n_estimators):\n",
        "            indices = np.random.choice(n_samples, n_samples, replace=True)\n",
        "            X_bootstrap = X[indices]\n",
        "            y_bootstrap = y[indices]\n",
        "            \n",
        "            tree = DecisionTree(\n",
        "                X_bootstrap, y_bootstrap,\n",
        "                criterion=self.criterion,\n",
        "                max_depth=self._max_depth,\n",
        "                min_samples_leaf=self._min_samples_leaf,\n",
        "                max_features=self._max_features\n",
        "            )\n",
        "            self._estimators.append(tree) \n",
        "\n",
        "    def predict(self, X):\n",
        "        X = np.asarray(X)\n",
        "        predictions = np.array([tree.predict(X) for tree in self._estimators])\n",
        "        \n",
        "        y_pred = np.zeros(X.shape[0], dtype=int)\n",
        "        for i in range(X.shape[0]):\n",
        "            (values, counts) = np.unique(predictions[:, i], return_counts=True)\n",
        "            y_pred[i] = values[np.argmax(counts)]\n",
        "        \n",
        "        return y_pred"
      ]
    },
    {
      "cell_type": "markdown",
      "metadata": {
        "id": "i80pffMn4q6A"
      },
      "source": [
        "### Задание 3 (2 балла)\n",
        "Часто хочется понимать, насколько большую роль играет тот или иной признак для предсказания класса объекта. Есть различные способы посчитать его важность. Один из простых способов сделать это для Random Forest - посчитать out-of-bag ошибку предсказания `err_oob`, а затем перемешать значения признака `j` и посчитать ее (`err_oob_j`) еще раз. Оценкой важности признака `j` для одного дерева будет разность `err_oob_j - err_oob`, важность для всего леса считается как среднее значение важности по деревьям.\n",
        "\n",
        "Реализуйте функцию `feature_importance`, которая принимает на вход Random Forest и возвращает массив, в котором содержится важность для каждого признака."
      ]
    },
    {
      "cell_type": "code",
      "execution_count": 14,
      "metadata": {
        "id": "rEmVG1Fl4q6B"
      },
      "outputs": [],
      "source": [
        "def accuracy_score(y_true: np.ndarray, y_pred: np.ndarray) -> float:\n",
        "    y_true = y_true.reshape(-1)\n",
        "    y_pred = y_pred.reshape(-1)\n",
        "    return np.mean(y_true == y_pred)\n",
        "\n",
        "\n",
        "def feature_importance(rfc):\n",
        "    n_features = rfc.n_features\n",
        "    importance = np.zeros(n_features)\n",
        "    total_trees = 0\n",
        "    \n",
        "    for tree in rfc.estimators:\n",
        "        X_oob, y_oob = tree.out_of_bag\n",
        "        \n",
        "        if X_oob is None or len(X_oob) == 0:\n",
        "            continue\n",
        "        \n",
        "        total_trees += 1\n",
        "        \n",
        "        y_pred = tree.predict(X_oob)\n",
        "        err_oob = 1 - accuracy_score(y_oob, y_pred)\n",
        "        \n",
        "        for j in range(n_features):\n",
        "            X_permuted = X_oob.copy()\n",
        "            X_permuted[:, j] = np.random.permutation(X_permuted[:, j])\n",
        "            \n",
        "            y_pred_perm = tree.predict(X_permuted)\n",
        "            err_oob_j = 1 - accuracy_score(y_oob, y_pred_perm)\n",
        "            \n",
        "            importance[j] += (err_oob_j - err_oob)\n",
        "    \n",
        "    if total_trees > 0:\n",
        "        importance /= total_trees\n",
        "    \n",
        "    return importance\n",
        "\n",
        "\n",
        "def most_important_features(importance, names, k=20):\n",
        "    # Выводит названия k самых важных признаков\n",
        "    indices = np.argsort(importance)[::-1][:k]\n",
        "    return np.array(names)[indices]"
      ]
    },
    {
      "cell_type": "markdown",
      "metadata": {
        "id": "JooN_YKm4q6B"
      },
      "source": [
        "Наконец, пришло время протестировать наше дерево на простом синтетическом наборе данных. В результате точность должна быть примерно равна `1.0`, наибольшее значение важности должно быть у признака с индексом `4`, признаки с индексами `2` и `3`  должны быть одинаково важны, а остальные признаки - не важны совсем."
      ]
    },
    {
      "cell_type": "code",
      "execution_count": 15,
      "metadata": {
        "id": "8gqYMp994q6B"
      },
      "outputs": [
        {
          "name": "stdout",
          "output_type": "stream",
          "text": [
            "Accuracy: 1.0\n",
            "Importance: [-1.87670739e-04  4.37921682e-04  1.66684268e-01  1.70520656e-01\n",
            "  3.30860967e-01 -2.36291108e-04]\n"
          ]
        }
      ],
      "source": [
        "def synthetic_dataset(size):\n",
        "    X = [\n",
        "        (np.random.randint(0, 2), np.random.randint(0, 2), i % 6 == 3, i % 6 == 0, i % 3 == 2, np.random.randint(0, 2))\n",
        "        for i in range(size)\n",
        "    ]\n",
        "    y = [i % 3 for i in range(size)]\n",
        "    return np.array(X), np.array(y)\n",
        "\n",
        "\n",
        "X, y = synthetic_dataset(1000)\n",
        "rfc = RandomForestClassifier(n_estimators=100)\n",
        "rfc.fit(X, y)\n",
        "print(\"Accuracy:\", np.mean(rfc.predict(X) == y))\n",
        "print(\"Importance:\", feature_importance(rfc))"
      ]
    },
    {
      "cell_type": "markdown",
      "metadata": {
        "id": "vRtGOs164q6C"
      },
      "source": [
        "### Задание 4 (1 балл)\n",
        "Теперь поработаем с реальными данными.\n",
        "\n",
        "Выборка состоит из публичных анонимизированных данных пользователей социальной сети Вконтакте. Первые два столбца отражают возрастную группу (`zoomer`, `doomer` и `boomer`) и пол (`female`, `male`). Все остальные столбцы являются бинарными признаками, каждый из них определяет, подписан ли пользователь на определенную группу/публичную страницу или нет.\\\n",
        "\\\n",
        "Необходимо обучить два классификатора, один из которых определяет возрастную группу, а второй - пол.\\\n",
        "\\\n",
        "Эксперименты с множеством используемых признаков и подбор гиперпараметров приветствуются. Лес должен строиться за какое-то разумное время."
      ]
    },
    {
      "cell_type": "code",
      "execution_count": 30,
      "metadata": {
        "id": "HruobK-q4q6C"
      },
      "outputs": [],
      "source": [
        "def read_dataset(path):\n",
        "    dataframe = pandas.read_csv(path, header=0)\n",
        "    dataset = dataframe.values.tolist()\n",
        "    random.shuffle(dataset)\n",
        "    y_age = [row[0] for row in dataset]\n",
        "    y_sex = [row[1] for row in dataset]\n",
        "    X = [row[2:] for row in dataset]\n",
        "\n",
        "    return np.array(X), np.array(y_age), np.array(y_sex), list(dataframe.columns)[2:]"
      ]
    },
    {
      "cell_type": "code",
      "execution_count": 31,
      "metadata": {
        "id": "K0QXWr3b4q6C"
      },
      "outputs": [],
      "source": [
        "X, y_age, y_sex, features = read_dataset(\"vk.csv\")\n",
        "X_train, X_test, y_age_train, y_age_test, y_sex_train, y_sex_test = train_test_split(X, y_age, y_sex, train_size=0.9)"
      ]
    },
    {
      "cell_type": "code",
      "execution_count": 32,
      "metadata": {},
      "outputs": [],
      "source": [
        "from sklearn.preprocessing import LabelEncoder\n",
        "\n",
        "le_sex = LabelEncoder()\n",
        "y_sex_train = le_sex.fit_transform(y_sex_train)\n",
        "y_sex_test = le_sex.transform(y_sex_test)\n",
        "\n",
        "le_age = LabelEncoder()\n",
        "y_age_train = le_age.fit_transform(y_age_train)\n",
        "y_age_test = le_age.transform(y_age_test)"
      ]
    },
    {
      "cell_type": "markdown",
      "metadata": {
        "id": "I0y8J97m4q6C"
      },
      "source": [
        "#### Возраст"
      ]
    },
    {
      "cell_type": "code",
      "execution_count": 40,
      "metadata": {
        "id": "MLJykJZH4q6C"
      },
      "outputs": [
        {
          "name": "stdout",
          "output_type": "stream",
          "text": [
            "Accuracy: 0.7389659520807061\n",
            "Most important features:\n",
            "1. mudakoff\n",
            "2. 4ch\n",
            "3. ovsyanochan\n",
            "4. styd.pozor\n",
            "5. dayvinchik\n",
            "6. rhymes\n",
            "7. iwantyou\n",
            "8. rapnewrap\n",
            "9. i_des\n",
            "10. bot_maxim\n",
            "11. leprum\n",
            "12. pravdashowtop\n",
            "13. xfilm\n",
            "14. tumblr_vacuum\n",
            "15. fuck_humor\n",
            "16. pixel_stickers\n",
            "17. borsch\n",
            "18. ne.poverish\n",
            "19. exclusive_muzic\n",
            "20. dzenpub\n"
          ]
        }
      ],
      "source": [
        "rfc = RandomForestClassifier(\n",
        "    n_estimators=40,\n",
        "    max_depth=None,\n",
        "    max_features=\"auto\",\n",
        "    criterion=\"entropy\",\n",
        "    min_samples_leaf=1\n",
        ")\n",
        "\n",
        "rfc.fit(X_train, y_age_train)\n",
        "age_pred = rfc.predict(X_test)\n",
        "\n",
        "print(\"Accuracy:\", np.mean(age_pred == y_age_test))\n",
        "print(\"Most important features:\")\n",
        "for i, name in enumerate(most_important_features(feature_importance(rfc), features, 20)):\n",
        "    print(str(i + 1) + \".\", name)"
      ]
    },
    {
      "cell_type": "markdown",
      "metadata": {
        "id": "cgNpaAKH4q6D"
      },
      "source": [
        "#### Пол"
      ]
    },
    {
      "cell_type": "code",
      "execution_count": 41,
      "metadata": {
        "id": "X-zne5-R4q6D"
      },
      "outputs": [
        {
          "name": "stdout",
          "output_type": "stream",
          "text": [
            "Accuracy: 0.862547288776797\n",
            "Most important features:\n",
            "1. 40kg\n",
            "2. mudakoff\n",
            "3. zerofat\n",
            "4. girlmeme\n",
            "5. 9o_6o_9o\n",
            "6. rapnewrap\n",
            "7. be.beauty\n",
            "8. modnailru\n",
            "9. sh.cook\n",
            "10. igm\n",
            "11. cook_good\n",
            "12. thesmolny\n",
            "13. i_d_t\n",
            "14. woman.blog\n",
            "15. 4ch\n",
            "16. femalemem\n",
            "17. fuck_humor\n",
            "18. academyofman\n",
            "19. reflexia_our_feelings\n",
            "20. psy.people\n"
          ]
        }
      ],
      "source": [
        "rfc = RandomForestClassifier(\n",
        "    n_estimators=40,\n",
        "    max_depth=None,\n",
        "    max_features=\"auto\",\n",
        "    criterion=\"entropy\",\n",
        "    min_samples_leaf=1\n",
        ")\n",
        "\n",
        "rfc.fit(X_train, y_sex_train)\n",
        "age_pred = rfc.predict(X_test)\n",
        "\n",
        "print(\"Accuracy:\", np.mean(age_pred == y_sex_test))\n",
        "print(\"Most important features:\")\n",
        "for i, name in enumerate(most_important_features(feature_importance(rfc), features, 20)):\n",
        "    print(str(i + 1) + \".\", name)"
      ]
    },
    {
      "cell_type": "markdown",
      "metadata": {
        "id": "pxeTQylQ4q6D"
      },
      "source": [
        "### CatBoost\n",
        "В качестве аьтернативы попробуем CatBoost.\n",
        "\n",
        "Устаниовить его можно просто с помощью `pip install catboost`. Туториалы можно найти, например, [здесь](https://catboost.ai/docs/concepts/python-usages-examples.html#multiclassification) и [здесь](https://github.com/catboost/tutorials/blob/master/python_tutorial.ipynb). Главное - не забудьте использовать `loss_function='MultiClass'`.\\\n",
        "\\\n",
        "Сначала протестируйте CatBoost на синтетических данных. Выведите точность и важность признаков."
      ]
    },
    {
      "cell_type": "code",
      "execution_count": 43,
      "metadata": {
        "id": "DOqVkEnd4q6D"
      },
      "outputs": [
        {
          "name": "stdout",
          "output_type": "stream",
          "text": [
            "0:\tlearn: 1.0800327\ttotal: 802us\tremaining: 7.23ms\n",
            "1:\tlearn: 1.0613432\ttotal: 1.47ms\tremaining: 5.88ms\n",
            "2:\tlearn: 1.0437628\ttotal: 2.29ms\tremaining: 5.33ms\n",
            "3:\tlearn: 1.0266420\ttotal: 2.99ms\tremaining: 4.48ms\n",
            "4:\tlearn: 1.0094097\ttotal: 3.57ms\tremaining: 3.57ms\n",
            "5:\tlearn: 0.9926321\ttotal: 4.14ms\tremaining: 2.76ms\n",
            "6:\tlearn: 0.9762900\ttotal: 4.71ms\tremaining: 2.02ms\n",
            "7:\tlearn: 0.9608657\ttotal: 5.39ms\tremaining: 1.35ms\n",
            "8:\tlearn: 0.9458149\ttotal: 6.07ms\tremaining: 674us\n",
            "9:\tlearn: 0.9306515\ttotal: 6.65ms\tremaining: 0us\n",
            "Accuracy: 1.0\n",
            "Importance: [3.23821947e-05 4.56289424e-05 2.81785147e+01 2.81811671e+01\n",
            " 4.36400032e+01 2.37037771e-04]\n"
          ]
        }
      ],
      "source": [
        "X, y = synthetic_dataset(1000)\n",
        "\n",
        "cb_model = CatBoostClassifier(\n",
        "    loss_function='MultiClass',\n",
        "    iterations=10,\n",
        "    learning_rate=0.01,\n",
        "    depth=6\n",
        ")\n",
        "cb_model.fit(X, y)\n",
        "y_pred = cb_model.predict(X)\n",
        "\n",
        "print(\"Accuracy:\", accuracy_score(y_pred, y))\n",
        "print(\"Importance:\", cb_model.feature_importances_)"
      ]
    },
    {
      "cell_type": "markdown",
      "metadata": {
        "id": "tcLRsSNG4q6E"
      },
      "source": [
        "### Задание 5 (3 балла)\n",
        "Попробуем применить один из используемых на практике алгоритмов. В этом нам поможет CatBoost. Также, как и реализованный ними RandomForest, применим его для определения пола и возраста пользователей сети Вконтакте, выведите названия наиболее важных признаков так же, как в задании 3.\\\n",
        "\\\n",
        "Эксперименты с множеством используемых признаков и подбор гиперпараметров приветствуются."
      ]
    },
    {
      "cell_type": "code",
      "execution_count": 44,
      "metadata": {
        "id": "hJGrQcO-4q6E"
      },
      "outputs": [],
      "source": [
        "X, y_age, y_sex, features = read_dataset(\"vk.csv\")\n",
        "X_train, X_test, y_age_train, y_age_test, y_sex_train, y_sex_test = train_test_split(X, y_age, y_sex, train_size=0.9)\n",
        "X_train, X_eval, y_age_train, y_age_eval, y_sex_train, y_sex_eval = train_test_split(\n",
        "    X_train, y_age_train, y_sex_train, train_size=0.8\n",
        ")"
      ]
    },
    {
      "cell_type": "code",
      "execution_count": 53,
      "metadata": {
        "id": "vYVN-ooLBJa5",
        "pycharm": {
          "name": "#%%\n"
        }
      },
      "outputs": [],
      "source": [
        "max_depth = range(1, 10, 3)\n",
        "min_samples_leaf = range(1, 10, 3)\n",
        "learning_rate = np.linspace(0.001, 1.0, 5)\n",
        "\n",
        "\n",
        "def get_best_params(y_train, y_eval):\n",
        "    best_score, best_params = -np.inf, None\n",
        "    for lr, md, msl in tqdm(list(product(learning_rate, max_depth, min_samples_leaf))):\n",
        "        model = CatBoostClassifier(\n",
        "            learning_rate=lr,\n",
        "            depth=md,\n",
        "            min_data_in_leaf=msl,\n",
        "            iterations=500,\n",
        "            random_seed=SEED,\n",
        "            verbose=False\n",
        "        )\n",
        "\n",
        "        model.fit(X_train, y_train)\n",
        "        y_pred = model.predict(X_eval)\n",
        "        score = accuracy_score(y_eval, y_pred)\n",
        "        \n",
        "        if score > best_score:\n",
        "            best_score, best_params = score, {\n",
        "                \"learning_rate\": lr,\n",
        "                \"depth\": md,\n",
        "                \"min_data_in_leaf\": msl\n",
        "            }\n",
        "\n",
        "    return best_params, best_score"
      ]
    },
    {
      "cell_type": "markdown",
      "metadata": {
        "id": "XA5f_8eC4q6E"
      },
      "source": [
        "#### Возраст"
      ]
    },
    {
      "cell_type": "code",
      "execution_count": 54,
      "metadata": {
        "id": "whhT2QT4BJa5",
        "pycharm": {
          "name": "#%%\n"
        }
      },
      "outputs": [
        {
          "data": {
            "application/vnd.jupyter.widget-view+json": {
              "model_id": "0d700c4bd0764dccb8d60eea4ff85820",
              "version_major": 2,
              "version_minor": 0
            },
            "text/plain": [
              "  0%|          | 0/45 [00:00<?, ?it/s]"
            ]
          },
          "metadata": {},
          "output_type": "display_data"
        },
        {
          "data": {
            "text/plain": [
              "({'learning_rate': np.float64(0.25075), 'depth': 1, 'min_data_in_leaf': 1},\n",
              " np.float64(0.7512263489838823))"
            ]
          },
          "execution_count": 54,
          "metadata": {},
          "output_type": "execute_result"
        }
      ],
      "source": [
        "best_params, best_score = get_best_params(y_age_train, y_age_eval)\n",
        "best_params, best_score"
      ]
    },
    {
      "cell_type": "code",
      "execution_count": 55,
      "metadata": {
        "id": "qSeUpxPj4q6E"
      },
      "outputs": [
        {
          "name": "stdout",
          "output_type": "stream",
          "text": [
            "Accuracy: 0.7187894073139974\n",
            "Most important features:\n",
            "1. ovsyanochan\n",
            "2. 4ch\n",
            "3. styd.pozor\n",
            "4. rhymes\n",
            "5. tumblr_vacuum\n",
            "6. dayvinchik\n",
            "7. mudakoff\n",
            "8. in.humour\n",
            "9. leprum\n",
            "10. pixel_stickers\n"
          ]
        }
      ],
      "source": [
        "cb_model = CatBoostClassifier(\n",
        "    iterations=200,\n",
        "    loss_function='MultiClass',\n",
        "    random_seed=SEED,\n",
        "    verbose=False,\n",
        "    **best_params\n",
        ")\n",
        "cb_model.fit(X_train, y_age_train)\n",
        "y_pred = cb_model.predict(X_test)\n",
        "\n",
        "print(\"Accuracy:\", accuracy_score(y_age_test, y_pred))\n",
        "print(\"Most important features:\")\n",
        "for i, name in enumerate(most_important_features(cb_model.feature_importances_, features, 10)):\n",
        "    print(str(i + 1) + \".\", name)"
      ]
    },
    {
      "cell_type": "markdown",
      "metadata": {
        "id": "KfYSptm74q6E"
      },
      "source": [
        "#### Пол"
      ]
    },
    {
      "cell_type": "code",
      "execution_count": 56,
      "metadata": {
        "id": "YuFqs-0KBJa5",
        "pycharm": {
          "name": "#%%\n"
        }
      },
      "outputs": [
        {
          "data": {
            "application/vnd.jupyter.widget-view+json": {
              "model_id": "86ab11ec06f54f4183802b17a1976437",
              "version_major": 2,
              "version_minor": 0
            },
            "text/plain": [
              "  0%|          | 0/45 [00:00<?, ?it/s]"
            ]
          },
          "metadata": {},
          "output_type": "display_data"
        },
        {
          "data": {
            "text/plain": [
              "({'learning_rate': np.float64(0.25075), 'depth': 4, 'min_data_in_leaf': 1},\n",
              " np.float64(0.8745620182200421))"
            ]
          },
          "execution_count": 56,
          "metadata": {},
          "output_type": "execute_result"
        }
      ],
      "source": [
        "best_params, best_score = get_best_params(y_sex_train, y_sex_eval)\n",
        "best_params, best_score"
      ]
    },
    {
      "cell_type": "code",
      "execution_count": 57,
      "metadata": {
        "id": "4rKa-f6F4q6E",
        "pycharm": {
          "name": "#%%\n"
        }
      },
      "outputs": [
        {
          "name": "stdout",
          "output_type": "stream",
          "text": [
            "Accuracy: 0.8827238335435057\n",
            "Most important features:\n",
            "1. 40kg\n",
            "2. girlmeme\n",
            "3. modnailru\n",
            "4. mudakoff\n",
            "5. zerofat\n",
            "6. i_d_t\n",
            "7. femalemem\n",
            "8. cook_good\n",
            "9. 9o_6o_9o\n",
            "10. thesmolny\n"
          ]
        }
      ],
      "source": [
        "cb_model = CatBoostClassifier(\n",
        "    iterations=200,\n",
        "    loss_function='MultiClass',\n",
        "    random_seed=SEED,\n",
        "    verbose=False,\n",
        "    **best_params\n",
        ")\n",
        "cb_model.fit(X_train, y_sex_train)\n",
        "y_pred = cb_model.predict(X_test)\n",
        "\n",
        "print(\"Accuracy:\", accuracy_score(y_sex_test, y_pred))\n",
        "print(\"Most important features:\")\n",
        "for i, name in enumerate(most_important_features(cb_model.feature_importances_, features, 10)):\n",
        "    print(str(i + 1) + \".\", name)"
      ]
    }
  ],
  "metadata": {
    "colab": {
      "provenance": []
    },
    "kernelspec": {
      "display_name": "Python 3",
      "language": "python",
      "name": "python3"
    },
    "language_info": {
      "codemirror_mode": {
        "name": "ipython",
        "version": 3
      },
      "file_extension": ".py",
      "mimetype": "text/x-python",
      "name": "python",
      "nbconvert_exporter": "python",
      "pygments_lexer": "ipython3",
      "version": "3.13.0"
    }
  },
  "nbformat": 4,
  "nbformat_minor": 0
}
